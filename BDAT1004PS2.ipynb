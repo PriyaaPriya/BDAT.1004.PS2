{
 "cells": [
  {
   "cell_type": "markdown",
   "id": "1918de5f",
   "metadata": {},
   "source": [
    "# Question 1\n",
    "Consider the following Python module:"
   ]
  },
  {
   "cell_type": "code",
   "execution_count": 4,
   "id": "33fc1a2b",
   "metadata": {},
   "outputs": [],
   "source": [
    "a = 0\n",
    "def b():\n",
    " global a\n",
    " a = c(a)\n",
    "def c(a):\n",
    " return a + 2"
   ]
  },
  {
   "cell_type": "code",
   "execution_count": 5,
   "id": "8ad85827",
   "metadata": {},
   "outputs": [],
   "source": [
    " b()\n",
    " b()\n",
    " b()\n"
   ]
  },
  {
   "cell_type": "code",
   "execution_count": 6,
   "id": "0312a016",
   "metadata": {},
   "outputs": [
    {
     "data": {
      "text/plain": [
       "6"
      ]
     },
     "execution_count": 6,
     "metadata": {},
     "output_type": "execute_result"
    }
   ],
   "source": [
    " a\n"
   ]
  },
  {
   "cell_type": "markdown",
   "id": "cbfcd857",
   "metadata": {},
   "source": [
    "Ans: value of the variable a = 6 is being shown because b function is calling the c function by passing a parameter, and we have executed b() function three times and each time a's value is being incremented by 2 that's why the a value is 6"
   ]
  },
  {
   "cell_type": "markdown",
   "id": "29af443b",
   "metadata": {},
   "source": [
    "# Question 2\n",
    "Function fileLength(), given to you, takes the name of a file as input and returns \n",
    "the length of the file:"
   ]
  },
  {
   "cell_type": "code",
   "execution_count": 69,
   "id": "cb1ce517",
   "metadata": {},
   "outputs": [],
   "source": [
    "def fileLength(file_name):\n",
    "    file = open(file_name)\n",
    "    contents = file.read()\n",
    "    file.close()\n",
    "    print(len(contents))"
   ]
  },
  {
   "cell_type": "code",
   "execution_count": 70,
   "id": "27b942d8",
   "metadata": {},
   "outputs": [
    {
     "name": "stdout",
     "output_type": "stream",
     "text": [
      "123\n"
     ]
    }
   ],
   "source": [
    " fileLength('midterm.py')"
   ]
  },
  {
   "cell_type": "code",
   "execution_count": 71,
   "id": "2063dc89",
   "metadata": {},
   "outputs": [
    {
     "ename": "FileNotFoundError",
     "evalue": "[Errno 2] No such file or directory: 'idterm.py'",
     "output_type": "error",
     "traceback": [
      "\u001b[1;31m---------------------------------------------------------------------------\u001b[0m",
      "\u001b[1;31mFileNotFoundError\u001b[0m                         Traceback (most recent call last)",
      "\u001b[1;32m~\\AppData\\Local\\Temp/ipykernel_14772/1287039427.py\u001b[0m in \u001b[0;36m<module>\u001b[1;34m\u001b[0m\n\u001b[1;32m----> 1\u001b[1;33m \u001b[0mfileLength\u001b[0m\u001b[1;33m(\u001b[0m\u001b[1;34m'idterm.py'\u001b[0m\u001b[1;33m)\u001b[0m\u001b[1;33m\u001b[0m\u001b[1;33m\u001b[0m\u001b[0m\n\u001b[0m",
      "\u001b[1;32m~\\AppData\\Local\\Temp/ipykernel_14772/3347397282.py\u001b[0m in \u001b[0;36mfileLength\u001b[1;34m(file_name)\u001b[0m\n\u001b[0;32m      1\u001b[0m \u001b[1;32mdef\u001b[0m \u001b[0mfileLength\u001b[0m\u001b[1;33m(\u001b[0m\u001b[0mfile_name\u001b[0m\u001b[1;33m)\u001b[0m\u001b[1;33m:\u001b[0m\u001b[1;33m\u001b[0m\u001b[1;33m\u001b[0m\u001b[0m\n\u001b[1;32m----> 2\u001b[1;33m     \u001b[0mfile\u001b[0m \u001b[1;33m=\u001b[0m \u001b[0mopen\u001b[0m\u001b[1;33m(\u001b[0m\u001b[0mfile_name\u001b[0m\u001b[1;33m)\u001b[0m\u001b[1;33m\u001b[0m\u001b[1;33m\u001b[0m\u001b[0m\n\u001b[0m\u001b[0;32m      3\u001b[0m     \u001b[0mcontents\u001b[0m \u001b[1;33m=\u001b[0m \u001b[0mfile\u001b[0m\u001b[1;33m.\u001b[0m\u001b[0mread\u001b[0m\u001b[1;33m(\u001b[0m\u001b[1;33m)\u001b[0m\u001b[1;33m\u001b[0m\u001b[1;33m\u001b[0m\u001b[0m\n\u001b[0;32m      4\u001b[0m     \u001b[0mfile\u001b[0m\u001b[1;33m.\u001b[0m\u001b[0mclose\u001b[0m\u001b[1;33m(\u001b[0m\u001b[1;33m)\u001b[0m\u001b[1;33m\u001b[0m\u001b[1;33m\u001b[0m\u001b[0m\n\u001b[0;32m      5\u001b[0m     \u001b[0mprint\u001b[0m\u001b[1;33m(\u001b[0m\u001b[0mlen\u001b[0m\u001b[1;33m(\u001b[0m\u001b[0mcontents\u001b[0m\u001b[1;33m)\u001b[0m\u001b[1;33m)\u001b[0m\u001b[1;33m\u001b[0m\u001b[1;33m\u001b[0m\u001b[0m\n",
      "\u001b[1;31mFileNotFoundError\u001b[0m: [Errno 2] No such file or directory: 'idterm.py'"
     ]
    }
   ],
   "source": [
    " fileLength('idterm.py')"
   ]
  },
  {
   "cell_type": "markdown",
   "id": "ed7ef77d",
   "metadata": {},
   "source": [
    "# Question 3\n",
    "Write a class named Marsupial that can be used as shown below:"
   ]
  },
  {
   "cell_type": "code",
   "execution_count": 51,
   "id": "0d414c21",
   "metadata": {},
   "outputs": [],
   "source": [
    "class Marsupial:\n",
    "    List = []\n",
    "    def put_in_pouch(self,name):\n",
    "        self.List.append(name)\n",
    "   \n",
    "    def pouch_contents(self):\n",
    "        print(self.List)"
   ]
  },
  {
   "cell_type": "code",
   "execution_count": 52,
   "id": "6aa9cbdf",
   "metadata": {},
   "outputs": [
    {
     "name": "stdout",
     "output_type": "stream",
     "text": [
      "['doll', 'firetruck', 'kitten']\n"
     ]
    }
   ],
   "source": [
    "m = Marsupial()\n",
    "m.put_in_pouch('doll')\n",
    "m.put_in_pouch('firetruck')\n",
    "m.put_in_pouch('kitten')\n",
    "m.pouch_contents()\n"
   ]
  },
  {
   "cell_type": "code",
   "execution_count": 65,
   "id": "f44c2b35",
   "metadata": {},
   "outputs": [],
   "source": [
    "class Kangaroo(Marsupial):\n",
    "    x=0\n",
    "    y=0\n",
    "    dx=0\n",
    "    dy=0\n",
    "    def __init__(self, x,y):\n",
    "        self.x = x\n",
    "        self.y = y\n",
    "    def jump(self,dx,dy):\n",
    "        self.dx += dx\n",
    "        self.dy += dy\n",
    "        \n",
    "    def __str__(self):\n",
    "        return \"I am a Kangaroo located at coordinates({},{})\".format(self.dx,self.dy)\n"
   ]
  },
  {
   "cell_type": "code",
   "execution_count": 66,
   "id": "d2a140ac",
   "metadata": {},
   "outputs": [
    {
     "name": "stdout",
     "output_type": "stream",
     "text": [
      "I am a Kangaroo located at coordinates(0,0)\n"
     ]
    }
   ],
   "source": [
    "k = Kangaroo(0,0)\n",
    "print(k)\n",
    "\n",
    "\n"
   ]
  },
  {
   "cell_type": "code",
   "execution_count": 67,
   "id": "8eef49e5",
   "metadata": {},
   "outputs": [
    {
     "name": "stdout",
     "output_type": "stream",
     "text": [
      "['doll', 'firetruck', 'kitten', 'doll', 'firetruck', 'kitten', 'doll', 'firetruck', 'kitten']\n"
     ]
    }
   ],
   "source": [
    "k.put_in_pouch('doll')\n",
    "k.put_in_pouch('firetruck')\n",
    "k.put_in_pouch('kitten')\n",
    "k.pouch_contents()\n",
    "\n"
   ]
  },
  {
   "cell_type": "code",
   "execution_count": 68,
   "id": "030c1b68",
   "metadata": {},
   "outputs": [
    {
     "name": "stdout",
     "output_type": "stream",
     "text": [
      "I am a Kangaroo located at coordinates(3,0)\n"
     ]
    }
   ],
   "source": [
    "k.jump(1,0)\n",
    "k.jump(1,0)\n",
    "k.jump(1,0)\n",
    "print(k)"
   ]
  },
  {
   "cell_type": "markdown",
   "id": "78b076f1",
   "metadata": {},
   "source": [
    "# Question 4\n",
    "Write function collatz() that takes a positive integer x as input and prints the \n",
    "Collatz sequence starting at x. A Collatz sequence is obtained by repeatedly applying \n",
    "this rule to the previous number x in the sequence:\n",
    "x = {\n",
    "𝑥/2 𝑖𝑓 𝑥 𝑖𝑠 𝑒𝑣𝑒𝑛\n",
    "3𝑥 + 1 𝑖𝑓 𝑥 𝑖𝑠 𝑜𝑑𝑑\n",
    "Your function should stop when the sequence gets to number 1. Your \n",
    "implementation must be recursive, without any loops."
   ]
  },
  {
   "cell_type": "code",
   "execution_count": 75,
   "id": "2a77624d",
   "metadata": {},
   "outputs": [
    {
     "name": "stdout",
     "output_type": "stream",
     "text": [
      "1\n"
     ]
    }
   ],
   "source": [
    "def collatz(x):\n",
    "    while x != 1:\n",
    "        print(x, end = ' ')\n",
    "        if x & 1:\n",
    "            x = 3 * x + 1\n",
    "        else:\n",
    "            x = x // 2\n",
    " \n",
    "    print(x)\n",
    "\n",
    "collatz(1)"
   ]
  },
  {
   "cell_type": "code",
   "execution_count": 76,
   "id": "12a00261",
   "metadata": {},
   "outputs": [
    {
     "name": "stdout",
     "output_type": "stream",
     "text": [
      "10 5 16 8 4 2 1\n"
     ]
    }
   ],
   "source": [
    "collatz(10)"
   ]
  },
  {
   "cell_type": "markdown",
   "id": "58fe6584",
   "metadata": {},
   "source": [
    "# Question 5\n",
    "Write a recursive method binary() that takes a non-negative \n",
    "integer n and prints the binary representation of integer n.\n"
   ]
  },
  {
   "cell_type": "code",
   "execution_count": 117,
   "id": "bca3687e",
   "metadata": {},
   "outputs": [],
   "source": [
    "def binary(num):\n",
    "       if num>1:\n",
    "            binary(num//2)\n",
    "       print(num % 2,end = ' ')"
   ]
  },
  {
   "cell_type": "code",
   "execution_count": 118,
   "id": "571adbb9",
   "metadata": {},
   "outputs": [
    {
     "name": "stdout",
     "output_type": "stream",
     "text": [
      "0 "
     ]
    }
   ],
   "source": [
    "binary(0)\n"
   ]
  },
  {
   "cell_type": "code",
   "execution_count": 119,
   "id": "dcd6ad84",
   "metadata": {},
   "outputs": [
    {
     "name": "stdout",
     "output_type": "stream",
     "text": [
      "1 "
     ]
    }
   ],
   "source": [
    "\n",
    "binary(1)\n"
   ]
  },
  {
   "cell_type": "code",
   "execution_count": 120,
   "id": "96335e74",
   "metadata": {},
   "outputs": [
    {
     "name": "stdout",
     "output_type": "stream",
     "text": [
      "1 1 "
     ]
    }
   ],
   "source": [
    "\n",
    "binary(3)\n",
    "\n"
   ]
  },
  {
   "cell_type": "code",
   "execution_count": 121,
   "id": "b95cbe0c",
   "metadata": {},
   "outputs": [
    {
     "name": "stdout",
     "output_type": "stream",
     "text": [
      "1 0 0 1 "
     ]
    }
   ],
   "source": [
    "binary(9)"
   ]
  },
  {
   "cell_type": "markdown",
   "id": "6403edd0",
   "metadata": {},
   "source": [
    "# Question 6\n",
    "Implement a class named HeadingParser that can be used to parse an HTML \n",
    "document, and retrieve and print all the headings in the document. You should \n",
    "implement your class as a subclass of HTMLParser, defined in Standard Library \n",
    "module html.parser. When fed a string containing HTML code, your class should \n",
    "print the headings, one per line and in the order in which they appear in the \n",
    "document. Each heading should be indented as follows: an h1 heading"
   ]
  },
  {
   "cell_type": "code",
   "execution_count": 136,
   "id": "a69ba74d",
   "metadata": {},
   "outputs": [],
   "source": [
    "from html.parser import HTMLParser\n",
    "class HeadingParser(HTMLParser):\n",
    "    inHeading = False\n",
    "    def handle_starttag(self, tag, attrs):\n",
    "        if tag == \"h1\" or tag == \"h2\":\n",
    "            self.inHeading = True\n",
    "    def handle_data(self, data):\n",
    "        if self.inHeading:\n",
    "            print(data)\n",
    "    def handle_endtag(self, tag):\n",
    "        if tag ==\"h1\" or tag == \"h2\":\n",
    "            self.inHeading = False"
   ]
  },
  {
   "cell_type": "code",
   "execution_count": 137,
   "id": "3e744544",
   "metadata": {},
   "outputs": [
    {
     "name": "stdout",
     "output_type": "stream",
     "text": [
      "W3C Mission\n",
      "Principles\n"
     ]
    }
   ],
   "source": [
    "infile = open('w3c.html')\n",
    "content = infile.read()\n",
    "infile.close()\n",
    "hp = HeadingParser()\n",
    "hp.feed(content)"
   ]
  },
  {
   "cell_type": "markdown",
   "id": "210bfb88",
   "metadata": {},
   "source": [
    "# Question 7\n",
    "Implement recursive function webdir() that takes as input: a URL (as a string) and \n",
    "non-negative integers depth and indent. Your function should visit every web \n",
    "page reachable from the starting URL web page in depth clicks or less, and print \n",
    "each web page's URL. As shown below, indentation, specified by indent, should \n",
    "be used to indicate the depth of a URL.\n"
   ]
  },
  {
   "cell_type": "code",
   "execution_count": 160,
   "id": "4bc762e1",
   "metadata": {},
   "outputs": [
    {
     "name": "stdout",
     "output_type": "stream",
     "text": [
      "<!doctype html><html lang=\"en\"><head><title>HTTP Status 404 – Not Found</title><style type=\"text/css\">body {font-family:Tahoma,Arial,sans-serif;} h1, h2, h3, b {color:white;background-color:#525D76;} h1 {font-size:22px;} h2 {font-size:16px;} h3 {font-size:14px;} p {font-size:12px;} a {color:black;} .line {height:1px;background-color:#525D76;border:none;}</style></head><body><h1>HTTP Status 404 – Not Found</h1><hr class=\"line\" /><p><b>Type</b> Status Report</p><p><b>Message</b> The requested resource [&#47;lperkovic&#47;csc242&#47;test1.html] is not available</p><p><b>Description</b> The origin server did not find a current representation for the target resource or is not willing to disclose that one exists.</p><hr class=\"line\" /><h3>Apache Tomcat/9.0.50</h3></body></html>\n"
     ]
    }
   ],
   "source": [
    "from bs4 import BeautifulSoup\n",
    "import requests\n",
    "url = 'http://reed.cs.depaul.edu/lperkovic/csc242/test1.html'\n",
    "ext = 'html'\n",
    "\n",
    "def webdir(url, ext=''):\n",
    "    ep = requests.get(url).text\n",
    "    print(ep)\n",
    "    soup = BeautifulSoup(ep, 'html.parser')\n",
    "    return [url + '/' + node.get('href') for node in soup.find_all('a') if node.get('href').endswith(ext)]\n",
    "\n",
    "for f in webdir(url, ext):\n",
    "    print(f)"
   ]
  },
  {
   "cell_type": "markdown",
   "id": "bcb2693e",
   "metadata": {},
   "source": [
    "# Question 8\n",
    "Write SQL queries on the below database table that return: \n",
    "\n",
    "a) All the temperature data.\n",
    "\n",
    "Ans: select Temperature from temp \n",
    "\n",
    "b) All the cities, but without repetition.\n",
    "\n",
    "Ans: select distinct(city) from temp\n",
    "\n",
    "c) All the records for India.\n",
    "\n",
    "Ans: select * from temp where country=India\n",
    "\n",
    "d) All the Fall records.\n",
    "\n",
    "Ans: select * from temp where Season=Fall\n",
    "\n",
    "e) The city, country, and season for which the average rainfall is between 200 \n",
    "and 400 millimeters.\n",
    "\n",
    "Ans: select city, country, season from temp where Avg(rainfall) between 200 \n",
    "and 400\n",
    "\n",
    "f) The city and country for which the average Fall temperature is above 20 \n",
    "degrees, in increasing temperature order.\n",
    "\n",
    "Ans: select city, country from temp where Season=Fall and Avg(Temperature) >20\n",
    "\n",
    "g) The total annual rainfall for Cairo.\n",
    "\n",
    "Ans: select sum(Rainfall) from temp where City=Cairo\n",
    "\n",
    "h) The total rainfall for each season.\n",
    "\n",
    "Ans: select sum(Rainfall) from temp GROUP BY season\n"
   ]
  },
  {
   "cell_type": "markdown",
   "id": "f36ae5e5",
   "metadata": {},
   "source": [
    "# Question 9\n",
    ". Suppose list words is defined as follows:"
   ]
  },
  {
   "cell_type": "code",
   "execution_count": 144,
   "id": "6f876dcf",
   "metadata": {},
   "outputs": [],
   "source": [
    "words = ['The', 'quick', 'brown', 'fox', 'jumps', 'over', \n",
    "'the', 'lazy', 'dog']"
   ]
  },
  {
   "cell_type": "code",
   "execution_count": 145,
   "id": "4d1d805a",
   "metadata": {},
   "outputs": [],
   "source": [
    "wordslist = [word.upper() for word in words]"
   ]
  },
  {
   "cell_type": "code",
   "execution_count": 146,
   "id": "43d9c34b",
   "metadata": {},
   "outputs": [
    {
     "data": {
      "text/plain": [
       "['THE', 'QUICK', 'BROWN', 'FOX', 'JUMPS', 'OVER', 'THE', 'LAZY', 'DOG']"
      ]
     },
     "execution_count": 146,
     "metadata": {},
     "output_type": "execute_result"
    }
   ],
   "source": [
    "wordslist"
   ]
  },
  {
   "cell_type": "code",
   "execution_count": 147,
   "id": "7f3ca40b",
   "metadata": {},
   "outputs": [],
   "source": [
    "wordslist2 = [word.lower() for word in words]"
   ]
  },
  {
   "cell_type": "code",
   "execution_count": 148,
   "id": "67985ddb",
   "metadata": {},
   "outputs": [
    {
     "data": {
      "text/plain": [
       "['the', 'quick', 'brown', 'fox', 'jumps', 'over', 'the', 'lazy', 'dog']"
      ]
     },
     "execution_count": 148,
     "metadata": {},
     "output_type": "execute_result"
    }
   ],
   "source": [
    "wordslist2"
   ]
  },
  {
   "cell_type": "code",
   "execution_count": 149,
   "id": "34cf6786",
   "metadata": {},
   "outputs": [],
   "source": [
    "wordslist3 = [len(word) for word in words]"
   ]
  },
  {
   "cell_type": "code",
   "execution_count": 150,
   "id": "43fd2442",
   "metadata": {},
   "outputs": [
    {
     "data": {
      "text/plain": [
       "[3, 5, 5, 3, 5, 4, 3, 4, 3]"
      ]
     },
     "execution_count": 150,
     "metadata": {},
     "output_type": "execute_result"
    }
   ],
   "source": [
    "wordslist3"
   ]
  },
  {
   "cell_type": "code",
   "execution_count": 152,
   "id": "b81ba021",
   "metadata": {},
   "outputs": [
    {
     "name": "stdout",
     "output_type": "stream",
     "text": [
      "['THE', 'QUICK', 'BROWN', 'FOX', 'JUMPS', 'OVER', 'THE', 'LAZY', 'DOG', 'the', 'quick', 'brown', 'fox', 'jumps', 'over', 'the', 'lazy', 'dog', 3, 5, 5, 3, 5, 4, 3, 4, 3]\n"
     ]
    }
   ],
   "source": [
    "def concat(lst1, lst2,lst3):\n",
    "    final_list = lst1 + lst2 + lst3\n",
    "    return final_list\n",
    "\n",
    "print(concat(wordslist, wordslist2,wordslist3))"
   ]
  },
  {
   "cell_type": "code",
   "execution_count": 154,
   "id": "aecddd05",
   "metadata": {},
   "outputs": [
    {
     "name": "stdout",
     "output_type": "stream",
     "text": [
      "['THE', 'QUICK', 'BROWN', 'FOX']\n"
     ]
    }
   ],
   "source": [
    "print(wordslist[:4])"
   ]
  },
  {
   "cell_type": "code",
   "execution_count": null,
   "id": "3e1775ea",
   "metadata": {},
   "outputs": [],
   "source": []
  }
 ],
 "metadata": {
  "kernelspec": {
   "display_name": "Python 3 (ipykernel)",
   "language": "python",
   "name": "python3"
  },
  "language_info": {
   "codemirror_mode": {
    "name": "ipython",
    "version": 3
   },
   "file_extension": ".py",
   "mimetype": "text/x-python",
   "name": "python",
   "nbconvert_exporter": "python",
   "pygments_lexer": "ipython3",
   "version": "3.9.7"
  }
 },
 "nbformat": 4,
 "nbformat_minor": 5
}
